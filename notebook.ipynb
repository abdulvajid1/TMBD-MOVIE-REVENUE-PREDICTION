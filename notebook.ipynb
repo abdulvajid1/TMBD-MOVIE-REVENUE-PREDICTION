{
 "cells": [
  {
   "cell_type": "code",
   "execution_count": 333,
   "metadata": {},
   "outputs": [],
   "source": [
    "# import dependancies\n",
    "import pandas as pd\n",
    "import numpy as np\n",
    "import matplotlib.pyplot as plt\n",
    "import seaborn as sns\n",
    "pd.set_option('display.max_columns',None)"
   ]
  },
  {
   "cell_type": "markdown",
   "metadata": {},
   "source": [
    "https://www.kaggle.com/competitions/tmdb-box-office-prediction"
   ]
  },
  {
   "cell_type": "code",
   "execution_count": 334,
   "metadata": {},
   "outputs": [],
   "source": [
    "# read data \n",
    "df = pd.read_csv('./train.csv')"
   ]
  },
  {
   "cell_type": "code",
   "execution_count": 335,
   "metadata": {},
   "outputs": [
    {
     "data": {
      "text/html": [
       "<div>\n",
       "<style scoped>\n",
       "    .dataframe tbody tr th:only-of-type {\n",
       "        vertical-align: middle;\n",
       "    }\n",
       "\n",
       "    .dataframe tbody tr th {\n",
       "        vertical-align: top;\n",
       "    }\n",
       "\n",
       "    .dataframe thead th {\n",
       "        text-align: right;\n",
       "    }\n",
       "</style>\n",
       "<table border=\"1\" class=\"dataframe\">\n",
       "  <thead>\n",
       "    <tr style=\"text-align: right;\">\n",
       "      <th></th>\n",
       "      <th>id</th>\n",
       "      <th>belongs_to_collection</th>\n",
       "      <th>budget</th>\n",
       "      <th>genres</th>\n",
       "      <th>homepage</th>\n",
       "      <th>imdb_id</th>\n",
       "      <th>original_language</th>\n",
       "      <th>original_title</th>\n",
       "      <th>overview</th>\n",
       "      <th>popularity</th>\n",
       "      <th>poster_path</th>\n",
       "      <th>production_companies</th>\n",
       "      <th>production_countries</th>\n",
       "      <th>release_date</th>\n",
       "      <th>runtime</th>\n",
       "      <th>spoken_languages</th>\n",
       "      <th>status</th>\n",
       "      <th>tagline</th>\n",
       "      <th>title</th>\n",
       "      <th>Keywords</th>\n",
       "      <th>cast</th>\n",
       "      <th>crew</th>\n",
       "      <th>revenue</th>\n",
       "    </tr>\n",
       "  </thead>\n",
       "  <tbody>\n",
       "    <tr>\n",
       "      <th>0</th>\n",
       "      <td>1</td>\n",
       "      <td>[{'id': 313576, 'name': 'Hot Tub Time Machine ...</td>\n",
       "      <td>14000000</td>\n",
       "      <td>[{'id': 35, 'name': 'Comedy'}]</td>\n",
       "      <td>NaN</td>\n",
       "      <td>tt2637294</td>\n",
       "      <td>en</td>\n",
       "      <td>Hot Tub Time Machine 2</td>\n",
       "      <td>When Lou, who has become the \"father of the In...</td>\n",
       "      <td>6.575393</td>\n",
       "      <td>/tQtWuwvMf0hCc2QR2tkolwl7c3c.jpg</td>\n",
       "      <td>[{'name': 'Paramount Pictures', 'id': 4}, {'na...</td>\n",
       "      <td>[{'iso_3166_1': 'US', 'name': 'United States o...</td>\n",
       "      <td>2/20/15</td>\n",
       "      <td>93.0</td>\n",
       "      <td>[{'iso_639_1': 'en', 'name': 'English'}]</td>\n",
       "      <td>Released</td>\n",
       "      <td>The Laws of Space and Time are About to be Vio...</td>\n",
       "      <td>Hot Tub Time Machine 2</td>\n",
       "      <td>[{'id': 4379, 'name': 'time travel'}, {'id': 9...</td>\n",
       "      <td>[{'cast_id': 4, 'character': 'Lou', 'credit_id...</td>\n",
       "      <td>[{'credit_id': '59ac067c92514107af02c8c8', 'de...</td>\n",
       "      <td>12314651</td>\n",
       "    </tr>\n",
       "    <tr>\n",
       "      <th>1</th>\n",
       "      <td>2</td>\n",
       "      <td>[{'id': 107674, 'name': 'The Princess Diaries ...</td>\n",
       "      <td>40000000</td>\n",
       "      <td>[{'id': 35, 'name': 'Comedy'}, {'id': 18, 'nam...</td>\n",
       "      <td>NaN</td>\n",
       "      <td>tt0368933</td>\n",
       "      <td>en</td>\n",
       "      <td>The Princess Diaries 2: Royal Engagement</td>\n",
       "      <td>Mia Thermopolis is now a college graduate and ...</td>\n",
       "      <td>8.248895</td>\n",
       "      <td>/w9Z7A0GHEhIp7etpj0vyKOeU1Wx.jpg</td>\n",
       "      <td>[{'name': 'Walt Disney Pictures', 'id': 2}]</td>\n",
       "      <td>[{'iso_3166_1': 'US', 'name': 'United States o...</td>\n",
       "      <td>8/6/04</td>\n",
       "      <td>113.0</td>\n",
       "      <td>[{'iso_639_1': 'en', 'name': 'English'}]</td>\n",
       "      <td>Released</td>\n",
       "      <td>It can take a lifetime to find true love; she'...</td>\n",
       "      <td>The Princess Diaries 2: Royal Engagement</td>\n",
       "      <td>[{'id': 2505, 'name': 'coronation'}, {'id': 42...</td>\n",
       "      <td>[{'cast_id': 1, 'character': 'Mia Thermopolis'...</td>\n",
       "      <td>[{'credit_id': '52fe43fe9251416c7502563d', 'de...</td>\n",
       "      <td>95149435</td>\n",
       "    </tr>\n",
       "    <tr>\n",
       "      <th>2</th>\n",
       "      <td>3</td>\n",
       "      <td>NaN</td>\n",
       "      <td>3300000</td>\n",
       "      <td>[{'id': 18, 'name': 'Drama'}]</td>\n",
       "      <td>http://sonyclassics.com/whiplash/</td>\n",
       "      <td>tt2582802</td>\n",
       "      <td>en</td>\n",
       "      <td>Whiplash</td>\n",
       "      <td>Under the direction of a ruthless instructor, ...</td>\n",
       "      <td>64.299990</td>\n",
       "      <td>/lIv1QinFqz4dlp5U4lQ6HaiskOZ.jpg</td>\n",
       "      <td>[{'name': 'Bold Films', 'id': 2266}, {'name': ...</td>\n",
       "      <td>[{'iso_3166_1': 'US', 'name': 'United States o...</td>\n",
       "      <td>10/10/14</td>\n",
       "      <td>105.0</td>\n",
       "      <td>[{'iso_639_1': 'en', 'name': 'English'}]</td>\n",
       "      <td>Released</td>\n",
       "      <td>The road to greatness can take you to the edge.</td>\n",
       "      <td>Whiplash</td>\n",
       "      <td>[{'id': 1416, 'name': 'jazz'}, {'id': 1523, 'n...</td>\n",
       "      <td>[{'cast_id': 5, 'character': 'Andrew Neimann',...</td>\n",
       "      <td>[{'credit_id': '54d5356ec3a3683ba0000039', 'de...</td>\n",
       "      <td>13092000</td>\n",
       "    </tr>\n",
       "    <tr>\n",
       "      <th>3</th>\n",
       "      <td>4</td>\n",
       "      <td>NaN</td>\n",
       "      <td>1200000</td>\n",
       "      <td>[{'id': 53, 'name': 'Thriller'}, {'id': 18, 'n...</td>\n",
       "      <td>http://kahaanithefilm.com/</td>\n",
       "      <td>tt1821480</td>\n",
       "      <td>hi</td>\n",
       "      <td>Kahaani</td>\n",
       "      <td>Vidya Bagchi (Vidya Balan) arrives in Kolkata ...</td>\n",
       "      <td>3.174936</td>\n",
       "      <td>/aTXRaPrWSinhcmCrcfJK17urp3F.jpg</td>\n",
       "      <td>NaN</td>\n",
       "      <td>[{'iso_3166_1': 'IN', 'name': 'India'}]</td>\n",
       "      <td>3/9/12</td>\n",
       "      <td>122.0</td>\n",
       "      <td>[{'iso_639_1': 'en', 'name': 'English'}, {'iso...</td>\n",
       "      <td>Released</td>\n",
       "      <td>NaN</td>\n",
       "      <td>Kahaani</td>\n",
       "      <td>[{'id': 10092, 'name': 'mystery'}, {'id': 1054...</td>\n",
       "      <td>[{'cast_id': 1, 'character': 'Vidya Bagchi', '...</td>\n",
       "      <td>[{'credit_id': '52fe48779251416c9108d6eb', 'de...</td>\n",
       "      <td>16000000</td>\n",
       "    </tr>\n",
       "    <tr>\n",
       "      <th>4</th>\n",
       "      <td>5</td>\n",
       "      <td>NaN</td>\n",
       "      <td>0</td>\n",
       "      <td>[{'id': 28, 'name': 'Action'}, {'id': 53, 'nam...</td>\n",
       "      <td>NaN</td>\n",
       "      <td>tt1380152</td>\n",
       "      <td>ko</td>\n",
       "      <td>마린보이</td>\n",
       "      <td>Marine Boy is the story of a former national s...</td>\n",
       "      <td>1.148070</td>\n",
       "      <td>/m22s7zvkVFDU9ir56PiiqIEWFdT.jpg</td>\n",
       "      <td>NaN</td>\n",
       "      <td>[{'iso_3166_1': 'KR', 'name': 'South Korea'}]</td>\n",
       "      <td>2/5/09</td>\n",
       "      <td>118.0</td>\n",
       "      <td>[{'iso_639_1': 'ko', 'name': '한국어/조선말'}]</td>\n",
       "      <td>Released</td>\n",
       "      <td>NaN</td>\n",
       "      <td>Marine Boy</td>\n",
       "      <td>NaN</td>\n",
       "      <td>[{'cast_id': 3, 'character': 'Chun-soo', 'cred...</td>\n",
       "      <td>[{'credit_id': '52fe464b9251416c75073b43', 'de...</td>\n",
       "      <td>3923970</td>\n",
       "    </tr>\n",
       "  </tbody>\n",
       "</table>\n",
       "</div>"
      ],
      "text/plain": [
       "   id                              belongs_to_collection    budget  \\\n",
       "0   1  [{'id': 313576, 'name': 'Hot Tub Time Machine ...  14000000   \n",
       "1   2  [{'id': 107674, 'name': 'The Princess Diaries ...  40000000   \n",
       "2   3                                                NaN   3300000   \n",
       "3   4                                                NaN   1200000   \n",
       "4   5                                                NaN         0   \n",
       "\n",
       "                                              genres  \\\n",
       "0                     [{'id': 35, 'name': 'Comedy'}]   \n",
       "1  [{'id': 35, 'name': 'Comedy'}, {'id': 18, 'nam...   \n",
       "2                      [{'id': 18, 'name': 'Drama'}]   \n",
       "3  [{'id': 53, 'name': 'Thriller'}, {'id': 18, 'n...   \n",
       "4  [{'id': 28, 'name': 'Action'}, {'id': 53, 'nam...   \n",
       "\n",
       "                            homepage    imdb_id original_language  \\\n",
       "0                                NaN  tt2637294                en   \n",
       "1                                NaN  tt0368933                en   \n",
       "2  http://sonyclassics.com/whiplash/  tt2582802                en   \n",
       "3         http://kahaanithefilm.com/  tt1821480                hi   \n",
       "4                                NaN  tt1380152                ko   \n",
       "\n",
       "                             original_title  \\\n",
       "0                    Hot Tub Time Machine 2   \n",
       "1  The Princess Diaries 2: Royal Engagement   \n",
       "2                                  Whiplash   \n",
       "3                                   Kahaani   \n",
       "4                                      마린보이   \n",
       "\n",
       "                                            overview  popularity  \\\n",
       "0  When Lou, who has become the \"father of the In...    6.575393   \n",
       "1  Mia Thermopolis is now a college graduate and ...    8.248895   \n",
       "2  Under the direction of a ruthless instructor, ...   64.299990   \n",
       "3  Vidya Bagchi (Vidya Balan) arrives in Kolkata ...    3.174936   \n",
       "4  Marine Boy is the story of a former national s...    1.148070   \n",
       "\n",
       "                        poster_path  \\\n",
       "0  /tQtWuwvMf0hCc2QR2tkolwl7c3c.jpg   \n",
       "1  /w9Z7A0GHEhIp7etpj0vyKOeU1Wx.jpg   \n",
       "2  /lIv1QinFqz4dlp5U4lQ6HaiskOZ.jpg   \n",
       "3  /aTXRaPrWSinhcmCrcfJK17urp3F.jpg   \n",
       "4  /m22s7zvkVFDU9ir56PiiqIEWFdT.jpg   \n",
       "\n",
       "                                production_companies  \\\n",
       "0  [{'name': 'Paramount Pictures', 'id': 4}, {'na...   \n",
       "1        [{'name': 'Walt Disney Pictures', 'id': 2}]   \n",
       "2  [{'name': 'Bold Films', 'id': 2266}, {'name': ...   \n",
       "3                                                NaN   \n",
       "4                                                NaN   \n",
       "\n",
       "                                production_countries release_date  runtime  \\\n",
       "0  [{'iso_3166_1': 'US', 'name': 'United States o...      2/20/15     93.0   \n",
       "1  [{'iso_3166_1': 'US', 'name': 'United States o...       8/6/04    113.0   \n",
       "2  [{'iso_3166_1': 'US', 'name': 'United States o...     10/10/14    105.0   \n",
       "3            [{'iso_3166_1': 'IN', 'name': 'India'}]       3/9/12    122.0   \n",
       "4      [{'iso_3166_1': 'KR', 'name': 'South Korea'}]       2/5/09    118.0   \n",
       "\n",
       "                                    spoken_languages    status  \\\n",
       "0           [{'iso_639_1': 'en', 'name': 'English'}]  Released   \n",
       "1           [{'iso_639_1': 'en', 'name': 'English'}]  Released   \n",
       "2           [{'iso_639_1': 'en', 'name': 'English'}]  Released   \n",
       "3  [{'iso_639_1': 'en', 'name': 'English'}, {'iso...  Released   \n",
       "4           [{'iso_639_1': 'ko', 'name': '한국어/조선말'}]  Released   \n",
       "\n",
       "                                             tagline  \\\n",
       "0  The Laws of Space and Time are About to be Vio...   \n",
       "1  It can take a lifetime to find true love; she'...   \n",
       "2    The road to greatness can take you to the edge.   \n",
       "3                                                NaN   \n",
       "4                                                NaN   \n",
       "\n",
       "                                      title  \\\n",
       "0                    Hot Tub Time Machine 2   \n",
       "1  The Princess Diaries 2: Royal Engagement   \n",
       "2                                  Whiplash   \n",
       "3                                   Kahaani   \n",
       "4                                Marine Boy   \n",
       "\n",
       "                                            Keywords  \\\n",
       "0  [{'id': 4379, 'name': 'time travel'}, {'id': 9...   \n",
       "1  [{'id': 2505, 'name': 'coronation'}, {'id': 42...   \n",
       "2  [{'id': 1416, 'name': 'jazz'}, {'id': 1523, 'n...   \n",
       "3  [{'id': 10092, 'name': 'mystery'}, {'id': 1054...   \n",
       "4                                                NaN   \n",
       "\n",
       "                                                cast  \\\n",
       "0  [{'cast_id': 4, 'character': 'Lou', 'credit_id...   \n",
       "1  [{'cast_id': 1, 'character': 'Mia Thermopolis'...   \n",
       "2  [{'cast_id': 5, 'character': 'Andrew Neimann',...   \n",
       "3  [{'cast_id': 1, 'character': 'Vidya Bagchi', '...   \n",
       "4  [{'cast_id': 3, 'character': 'Chun-soo', 'cred...   \n",
       "\n",
       "                                                crew   revenue  \n",
       "0  [{'credit_id': '59ac067c92514107af02c8c8', 'de...  12314651  \n",
       "1  [{'credit_id': '52fe43fe9251416c7502563d', 'de...  95149435  \n",
       "2  [{'credit_id': '54d5356ec3a3683ba0000039', 'de...  13092000  \n",
       "3  [{'credit_id': '52fe48779251416c9108d6eb', 'de...  16000000  \n",
       "4  [{'credit_id': '52fe464b9251416c75073b43', 'de...   3923970  "
      ]
     },
     "execution_count": 335,
     "metadata": {},
     "output_type": "execute_result"
    }
   ],
   "source": [
    "df.head()"
   ]
  },
  {
   "cell_type": "code",
   "execution_count": 336,
   "metadata": {},
   "outputs": [
    {
     "name": "stdout",
     "output_type": "stream",
     "text": [
      "<class 'pandas.core.frame.DataFrame'>\n",
      "RangeIndex: 3000 entries, 0 to 2999\n",
      "Data columns (total 23 columns):\n",
      " #   Column                 Non-Null Count  Dtype  \n",
      "---  ------                 --------------  -----  \n",
      " 0   id                     3000 non-null   int64  \n",
      " 1   belongs_to_collection  604 non-null    object \n",
      " 2   budget                 3000 non-null   int64  \n",
      " 3   genres                 2993 non-null   object \n",
      " 4   homepage               946 non-null    object \n",
      " 5   imdb_id                3000 non-null   object \n",
      " 6   original_language      3000 non-null   object \n",
      " 7   original_title         3000 non-null   object \n",
      " 8   overview               2992 non-null   object \n",
      " 9   popularity             3000 non-null   float64\n",
      " 10  poster_path            2999 non-null   object \n",
      " 11  production_companies   2844 non-null   object \n",
      " 12  production_countries   2945 non-null   object \n",
      " 13  release_date           3000 non-null   object \n",
      " 14  runtime                2998 non-null   float64\n",
      " 15  spoken_languages       2980 non-null   object \n",
      " 16  status                 3000 non-null   object \n",
      " 17  tagline                2403 non-null   object \n",
      " 18  title                  3000 non-null   object \n",
      " 19  Keywords               2724 non-null   object \n",
      " 20  cast                   2987 non-null   object \n",
      " 21  crew                   2984 non-null   object \n",
      " 22  revenue                3000 non-null   int64  \n",
      "dtypes: float64(2), int64(3), object(18)\n",
      "memory usage: 539.2+ KB\n"
     ]
    }
   ],
   "source": [
    "# data info\n",
    "df.info()"
   ]
  },
  {
   "cell_type": "code",
   "execution_count": 337,
   "metadata": {},
   "outputs": [
    {
     "data": {
      "text/html": [
       "<div>\n",
       "<style scoped>\n",
       "    .dataframe tbody tr th:only-of-type {\n",
       "        vertical-align: middle;\n",
       "    }\n",
       "\n",
       "    .dataframe tbody tr th {\n",
       "        vertical-align: top;\n",
       "    }\n",
       "\n",
       "    .dataframe thead th {\n",
       "        text-align: right;\n",
       "    }\n",
       "</style>\n",
       "<table border=\"1\" class=\"dataframe\">\n",
       "  <thead>\n",
       "    <tr style=\"text-align: right;\">\n",
       "      <th></th>\n",
       "      <th>id</th>\n",
       "      <th>budget</th>\n",
       "      <th>popularity</th>\n",
       "      <th>runtime</th>\n",
       "      <th>revenue</th>\n",
       "    </tr>\n",
       "  </thead>\n",
       "  <tbody>\n",
       "    <tr>\n",
       "      <th>count</th>\n",
       "      <td>3000.000000</td>\n",
       "      <td>3.000000e+03</td>\n",
       "      <td>3000.000000</td>\n",
       "      <td>2998.000000</td>\n",
       "      <td>3.000000e+03</td>\n",
       "    </tr>\n",
       "    <tr>\n",
       "      <th>mean</th>\n",
       "      <td>1500.500000</td>\n",
       "      <td>2.253133e+07</td>\n",
       "      <td>8.463274</td>\n",
       "      <td>107.856571</td>\n",
       "      <td>6.672585e+07</td>\n",
       "    </tr>\n",
       "    <tr>\n",
       "      <th>std</th>\n",
       "      <td>866.169729</td>\n",
       "      <td>3.702609e+07</td>\n",
       "      <td>12.104000</td>\n",
       "      <td>22.086434</td>\n",
       "      <td>1.375323e+08</td>\n",
       "    </tr>\n",
       "    <tr>\n",
       "      <th>min</th>\n",
       "      <td>1.000000</td>\n",
       "      <td>0.000000e+00</td>\n",
       "      <td>0.000001</td>\n",
       "      <td>0.000000</td>\n",
       "      <td>1.000000e+00</td>\n",
       "    </tr>\n",
       "    <tr>\n",
       "      <th>25%</th>\n",
       "      <td>750.750000</td>\n",
       "      <td>0.000000e+00</td>\n",
       "      <td>4.018053</td>\n",
       "      <td>94.000000</td>\n",
       "      <td>2.379808e+06</td>\n",
       "    </tr>\n",
       "    <tr>\n",
       "      <th>50%</th>\n",
       "      <td>1500.500000</td>\n",
       "      <td>8.000000e+06</td>\n",
       "      <td>7.374861</td>\n",
       "      <td>104.000000</td>\n",
       "      <td>1.680707e+07</td>\n",
       "    </tr>\n",
       "    <tr>\n",
       "      <th>75%</th>\n",
       "      <td>2250.250000</td>\n",
       "      <td>2.900000e+07</td>\n",
       "      <td>10.890983</td>\n",
       "      <td>118.000000</td>\n",
       "      <td>6.891920e+07</td>\n",
       "    </tr>\n",
       "    <tr>\n",
       "      <th>max</th>\n",
       "      <td>3000.000000</td>\n",
       "      <td>3.800000e+08</td>\n",
       "      <td>294.337037</td>\n",
       "      <td>338.000000</td>\n",
       "      <td>1.519558e+09</td>\n",
       "    </tr>\n",
       "  </tbody>\n",
       "</table>\n",
       "</div>"
      ],
      "text/plain": [
       "                id        budget   popularity      runtime       revenue\n",
       "count  3000.000000  3.000000e+03  3000.000000  2998.000000  3.000000e+03\n",
       "mean   1500.500000  2.253133e+07     8.463274   107.856571  6.672585e+07\n",
       "std     866.169729  3.702609e+07    12.104000    22.086434  1.375323e+08\n",
       "min       1.000000  0.000000e+00     0.000001     0.000000  1.000000e+00\n",
       "25%     750.750000  0.000000e+00     4.018053    94.000000  2.379808e+06\n",
       "50%    1500.500000  8.000000e+06     7.374861   104.000000  1.680707e+07\n",
       "75%    2250.250000  2.900000e+07    10.890983   118.000000  6.891920e+07\n",
       "max    3000.000000  3.800000e+08   294.337037   338.000000  1.519558e+09"
      ]
     },
     "execution_count": 337,
     "metadata": {},
     "output_type": "execute_result"
    }
   ],
   "source": [
    "# describe\n",
    "df.describe()"
   ]
  },
  {
   "cell_type": "markdown",
   "metadata": {},
   "source": [
    "#### problems that i see\n",
    "- [] movies with 0 budget\n",
    "- [] belong to colloction contain null which means it is standalone movie\n",
    "- [] zero runtime movies"
   ]
  },
  {
   "cell_type": "code",
   "execution_count": 338,
   "metadata": {},
   "outputs": [],
   "source": [
    "# removing all unneccassary columns for our application\n",
    "df = df[['belongs_to_collection', 'budget', 'genres', 'homepage',\n",
    "       'original_language', 'overview',\n",
    "       'popularity', 'production_companies',\n",
    "       'production_countries', 'release_date', 'runtime', 'spoken_languages',\n",
    "       'status', 'tagline', 'title', 'Keywords', 'cast', 'crew', 'revenue']]"
   ]
  },
  {
   "cell_type": "code",
   "execution_count": 339,
   "metadata": {},
   "outputs": [],
   "source": [
    "# Data Cleaning"
   ]
  },
  {
   "cell_type": "code",
   "execution_count": 340,
   "metadata": {},
   "outputs": [],
   "source": [
    "# Univariate analysis\n",
    "df['belongs_to_collection'] = df['belongs_to_collection'].apply(lambda x:np.nan if pd.isna(x) else eval(x)[0])"
   ]
  },
  {
   "cell_type": "code",
   "execution_count": 341,
   "metadata": {},
   "outputs": [],
   "source": [
    "# taking only the name from the belong to colloction\n",
    "df['belongs_to_collection'] = df['belongs_to_collection'].apply(lambda x:x['name'] if pd.notna(x) else 'standalone')"
   ]
  },
  {
   "cell_type": "code",
   "execution_count": 342,
   "metadata": {},
   "outputs": [
    {
     "data": {
      "text/plain": [
       "belongs_to_collection\n",
       "standalone                                2396\n",
       "James Bond Collection                       16\n",
       "Friday the 13th Collection                   7\n",
       "The Pink Panther (Original) Collection       6\n",
       "Police Academy Collection                    5\n",
       "                                          ... \n",
       "Pitch Perfect Collection                     1\n",
       "Alpha and Omega Collection                   1\n",
       "Bad Boys Collection                          1\n",
       "F*ck You, Goethe Collection                  1\n",
       "Save The Last Dance Collection               1\n",
       "Name: count, Length: 423, dtype: int64"
      ]
     },
     "execution_count": 342,
     "metadata": {},
     "output_type": "execute_result"
    }
   ],
   "source": [
    "df['belongs_to_collection'].value_counts()"
   ]
  },
  {
   "cell_type": "code",
   "execution_count": 343,
   "metadata": {},
   "outputs": [
    {
     "data": {
      "text/plain": [
       "count         3000\n",
       "mean      22531334\n",
       "std       37026086\n",
       "min              0\n",
       "25%              0\n",
       "50%        8000000\n",
       "75%       29000000\n",
       "max      380000000\n",
       "Name: budget, dtype: object"
      ]
     },
     "execution_count": 343,
     "metadata": {},
     "output_type": "execute_result"
    }
   ],
   "source": [
    "df['budget'].describe().apply(lambda x:f\"{x:.0f}\")"
   ]
  },
  {
   "cell_type": "code",
   "execution_count": 344,
   "metadata": {},
   "outputs": [
    {
     "data": {
      "text/html": [
       "<div>\n",
       "<style scoped>\n",
       "    .dataframe tbody tr th:only-of-type {\n",
       "        vertical-align: middle;\n",
       "    }\n",
       "\n",
       "    .dataframe tbody tr th {\n",
       "        vertical-align: top;\n",
       "    }\n",
       "\n",
       "    .dataframe thead th {\n",
       "        text-align: right;\n",
       "    }\n",
       "</style>\n",
       "<table border=\"1\" class=\"dataframe\">\n",
       "  <thead>\n",
       "    <tr style=\"text-align: right;\">\n",
       "      <th></th>\n",
       "      <th>belongs_to_collection</th>\n",
       "      <th>budget</th>\n",
       "      <th>genres</th>\n",
       "      <th>homepage</th>\n",
       "      <th>original_language</th>\n",
       "      <th>overview</th>\n",
       "      <th>popularity</th>\n",
       "      <th>production_companies</th>\n",
       "      <th>production_countries</th>\n",
       "      <th>release_date</th>\n",
       "      <th>runtime</th>\n",
       "      <th>spoken_languages</th>\n",
       "      <th>status</th>\n",
       "      <th>tagline</th>\n",
       "      <th>title</th>\n",
       "      <th>Keywords</th>\n",
       "      <th>cast</th>\n",
       "      <th>crew</th>\n",
       "      <th>revenue</th>\n",
       "    </tr>\n",
       "  </thead>\n",
       "  <tbody>\n",
       "    <tr>\n",
       "      <th>4</th>\n",
       "      <td>standalone</td>\n",
       "      <td>0</td>\n",
       "      <td>[{'id': 28, 'name': 'Action'}, {'id': 53, 'nam...</td>\n",
       "      <td>NaN</td>\n",
       "      <td>ko</td>\n",
       "      <td>Marine Boy is the story of a former national s...</td>\n",
       "      <td>1.148070</td>\n",
       "      <td>NaN</td>\n",
       "      <td>[{'iso_3166_1': 'KR', 'name': 'South Korea'}]</td>\n",
       "      <td>2/5/09</td>\n",
       "      <td>118.0</td>\n",
       "      <td>[{'iso_639_1': 'ko', 'name': '한국어/조선말'}]</td>\n",
       "      <td>Released</td>\n",
       "      <td>NaN</td>\n",
       "      <td>Marine Boy</td>\n",
       "      <td>NaN</td>\n",
       "      <td>[{'cast_id': 3, 'character': 'Chun-soo', 'cred...</td>\n",
       "      <td>[{'credit_id': '52fe464b9251416c75073b43', 'de...</td>\n",
       "      <td>3923970</td>\n",
       "    </tr>\n",
       "    <tr>\n",
       "      <th>7</th>\n",
       "      <td>standalone</td>\n",
       "      <td>0</td>\n",
       "      <td>[{'id': 99, 'name': 'Documentary'}]</td>\n",
       "      <td>NaN</td>\n",
       "      <td>en</td>\n",
       "      <td>A chronicle which provides a rare window into ...</td>\n",
       "      <td>1.949044</td>\n",
       "      <td>NaN</td>\n",
       "      <td>NaN</td>\n",
       "      <td>1/15/04</td>\n",
       "      <td>84.0</td>\n",
       "      <td>[{'iso_639_1': 'ar', 'name': 'العربية'}, {'iso...</td>\n",
       "      <td>Released</td>\n",
       "      <td>Different channels. Different truths.</td>\n",
       "      <td>Control Room</td>\n",
       "      <td>[{'id': 917, 'name': 'journalism'}, {'id': 163...</td>\n",
       "      <td>[{'cast_id': 2, 'character': 'Himself', 'credi...</td>\n",
       "      <td>[{'credit_id': '52fe47a69251416c750a0daf', 'de...</td>\n",
       "      <td>2586511</td>\n",
       "    </tr>\n",
       "    <tr>\n",
       "      <th>8</th>\n",
       "      <td>The Muppet Collection</td>\n",
       "      <td>0</td>\n",
       "      <td>[{'id': 28, 'name': 'Action'}, {'id': 35, 'nam...</td>\n",
       "      <td>NaN</td>\n",
       "      <td>en</td>\n",
       "      <td>After telling the story of Flint's last journe...</td>\n",
       "      <td>6.902423</td>\n",
       "      <td>[{'name': 'Walt Disney Pictures', 'id': 2}, {'...</td>\n",
       "      <td>[{'iso_3166_1': 'US', 'name': 'United States o...</td>\n",
       "      <td>2/16/96</td>\n",
       "      <td>100.0</td>\n",
       "      <td>[{'iso_639_1': 'en', 'name': 'English'}]</td>\n",
       "      <td>Released</td>\n",
       "      <td>Set sail for Muppet mayhem!</td>\n",
       "      <td>Muppet Treasure Island</td>\n",
       "      <td>[{'id': 2041, 'name': 'island'}, {'id': 4418, ...</td>\n",
       "      <td>[{'cast_id': 1, 'character': 'Long John Silver...</td>\n",
       "      <td>[{'credit_id': '52fe43c89251416c7501deb3', 'de...</td>\n",
       "      <td>34327391</td>\n",
       "    </tr>\n",
       "    <tr>\n",
       "      <th>11</th>\n",
       "      <td>Revenge of the Nerds Collection</td>\n",
       "      <td>0</td>\n",
       "      <td>[{'id': 35, 'name': 'Comedy'}]</td>\n",
       "      <td>NaN</td>\n",
       "      <td>en</td>\n",
       "      <td>The members of the Lambda Lambda Lambda frater...</td>\n",
       "      <td>10.543750</td>\n",
       "      <td>[{'name': 'Twentieth Century Fox Film Corporat...</td>\n",
       "      <td>[{'iso_3166_1': 'US', 'name': 'United States o...</td>\n",
       "      <td>7/10/87</td>\n",
       "      <td>98.0</td>\n",
       "      <td>[{'iso_639_1': 'en', 'name': 'English'}]</td>\n",
       "      <td>Released</td>\n",
       "      <td>They're Back!</td>\n",
       "      <td>Revenge of the Nerds II: Nerds in Paradise</td>\n",
       "      <td>[{'id': 5801, 'name': 'nerd'}, {'id': 6876, 'n...</td>\n",
       "      <td>[{'cast_id': 2, 'character': 'Lewis Skolnick',...</td>\n",
       "      <td>[{'credit_id': '52fe46f49251416c750891e9', 'de...</td>\n",
       "      <td>22642033</td>\n",
       "    </tr>\n",
       "    <tr>\n",
       "      <th>17</th>\n",
       "      <td>standalone</td>\n",
       "      <td>0</td>\n",
       "      <td>[{'id': 18, 'name': 'Drama'}, {'id': 10749, 'n...</td>\n",
       "      <td>NaN</td>\n",
       "      <td>en</td>\n",
       "      <td>In 1857, at the height of his fame and fortune...</td>\n",
       "      <td>4.183558</td>\n",
       "      <td>[{'name': 'BBC Films', 'id': 288}, {'name': 'H...</td>\n",
       "      <td>[{'iso_3166_1': 'GB', 'name': 'United Kingdom'}]</td>\n",
       "      <td>12/25/13</td>\n",
       "      <td>111.0</td>\n",
       "      <td>[{'iso_639_1': 'en', 'name': 'English'}]</td>\n",
       "      <td>Released</td>\n",
       "      <td>His greatest story was the one he could never ...</td>\n",
       "      <td>The Invisible Woman</td>\n",
       "      <td>[{'id': 5565, 'name': 'biography'}, {'id': 180...</td>\n",
       "      <td>[{'cast_id': 7, 'character': 'Charles Dickens'...</td>\n",
       "      <td>[{'credit_id': '53b94a260e0a2676c7009b37', 'de...</td>\n",
       "      <td>1234254</td>\n",
       "    </tr>\n",
       "    <tr>\n",
       "      <th>...</th>\n",
       "      <td>...</td>\n",
       "      <td>...</td>\n",
       "      <td>...</td>\n",
       "      <td>...</td>\n",
       "      <td>...</td>\n",
       "      <td>...</td>\n",
       "      <td>...</td>\n",
       "      <td>...</td>\n",
       "      <td>...</td>\n",
       "      <td>...</td>\n",
       "      <td>...</td>\n",
       "      <td>...</td>\n",
       "      <td>...</td>\n",
       "      <td>...</td>\n",
       "      <td>...</td>\n",
       "      <td>...</td>\n",
       "      <td>...</td>\n",
       "      <td>...</td>\n",
       "      <td>...</td>\n",
       "    </tr>\n",
       "    <tr>\n",
       "      <th>2989</th>\n",
       "      <td>standalone</td>\n",
       "      <td>0</td>\n",
       "      <td>[{'id': 16, 'name': 'Animation'}, {'id': 10751...</td>\n",
       "      <td>NaN</td>\n",
       "      <td>en</td>\n",
       "      <td>The adventures of a young Trumpeter swan who c...</td>\n",
       "      <td>0.851599</td>\n",
       "      <td>[{'name': 'TriStar Pictures', 'id': 559}, {'na...</td>\n",
       "      <td>[{'iso_3166_1': 'US', 'name': 'United States o...</td>\n",
       "      <td>5/11/01</td>\n",
       "      <td>75.0</td>\n",
       "      <td>[{'iso_639_1': 'en', 'name': 'English'}, {'iso...</td>\n",
       "      <td>Released</td>\n",
       "      <td>Sometimes being different helps you to find yo...</td>\n",
       "      <td>The Trumpet Of The Swan</td>\n",
       "      <td>[{'id': 6653, 'name': 'trumpet'}, {'id': 10407...</td>\n",
       "      <td>[{'cast_id': 1, 'character': 'Father', 'credit...</td>\n",
       "      <td>[{'credit_id': '58bc9d609251416084044b0e', 'de...</td>\n",
       "      <td>100202</td>\n",
       "    </tr>\n",
       "    <tr>\n",
       "      <th>2990</th>\n",
       "      <td>standalone</td>\n",
       "      <td>0</td>\n",
       "      <td>[{'id': 28, 'name': 'Action'}, {'id': 35, 'nam...</td>\n",
       "      <td>NaN</td>\n",
       "      <td>en</td>\n",
       "      <td>Can two clueless Georgia homegirls with big he...</td>\n",
       "      <td>1.560980</td>\n",
       "      <td>[{'name': 'New Line Cinema', 'id': 12}, {'name...</td>\n",
       "      <td>NaN</td>\n",
       "      <td>3/28/97</td>\n",
       "      <td>90.0</td>\n",
       "      <td>[{'iso_639_1': 'en', 'name': 'English'}]</td>\n",
       "      <td>Released</td>\n",
       "      <td>These Pretty Women... Are Clueless!</td>\n",
       "      <td>B.A.P.S.</td>\n",
       "      <td>[{'id': 1437, 'name': 'burglar'}, {'id': 1946,...</td>\n",
       "      <td>[{'cast_id': 3, 'character': 'Nisi', 'credit_i...</td>\n",
       "      <td>[{'credit_id': '52fe477b9251416c7509af57', 'de...</td>\n",
       "      <td>7240837</td>\n",
       "    </tr>\n",
       "    <tr>\n",
       "      <th>2994</th>\n",
       "      <td>standalone</td>\n",
       "      <td>0</td>\n",
       "      <td>[{'id': 18, 'name': 'Drama'}]</td>\n",
       "      <td>NaN</td>\n",
       "      <td>en</td>\n",
       "      <td>When David Greene receives a football scholars...</td>\n",
       "      <td>7.438381</td>\n",
       "      <td>[{'name': 'Paramount Pictures', 'id': 4}]</td>\n",
       "      <td>[{'iso_3166_1': 'US', 'name': 'United States o...</td>\n",
       "      <td>9/18/92</td>\n",
       "      <td>106.0</td>\n",
       "      <td>[{'iso_639_1': 'en', 'name': 'English'}]</td>\n",
       "      <td>Released</td>\n",
       "      <td>Just because you’re accepted doesn’t mean you ...</td>\n",
       "      <td>School Ties</td>\n",
       "      <td>[{'id': 6075, 'name': 'sport'}, {'id': 10144, ...</td>\n",
       "      <td>[{'cast_id': 2, 'character': 'David Greene', '...</td>\n",
       "      <td>[{'credit_id': '5637777ac3a3681b4d01f9f5', 'de...</td>\n",
       "      <td>14715067</td>\n",
       "    </tr>\n",
       "    <tr>\n",
       "      <th>2995</th>\n",
       "      <td>standalone</td>\n",
       "      <td>0</td>\n",
       "      <td>[{'id': 35, 'name': 'Comedy'}, {'id': 10749, '...</td>\n",
       "      <td>NaN</td>\n",
       "      <td>en</td>\n",
       "      <td>Military men Rock Reilly and Eddie Devane are ...</td>\n",
       "      <td>9.853270</td>\n",
       "      <td>[{'name': 'Warner Bros.', 'id': 6194}, {'name'...</td>\n",
       "      <td>[{'iso_3166_1': 'US', 'name': 'United States o...</td>\n",
       "      <td>4/22/94</td>\n",
       "      <td>102.0</td>\n",
       "      <td>[{'iso_639_1': 'en', 'name': 'English'}]</td>\n",
       "      <td>Released</td>\n",
       "      <td>It was supposed to be a routine prisoner trans...</td>\n",
       "      <td>Chasers</td>\n",
       "      <td>[{'id': 378, 'name': 'prison'}, {'id': 572, 'n...</td>\n",
       "      <td>[{'cast_id': 2, 'character': 'Rock Reilly', 'c...</td>\n",
       "      <td>[{'credit_id': '52fe4494c3a368484e02ac7d', 'de...</td>\n",
       "      <td>1596687</td>\n",
       "    </tr>\n",
       "    <tr>\n",
       "      <th>2996</th>\n",
       "      <td>standalone</td>\n",
       "      <td>0</td>\n",
       "      <td>[{'id': 18, 'name': 'Drama'}, {'id': 10402, 'n...</td>\n",
       "      <td>NaN</td>\n",
       "      <td>sv</td>\n",
       "      <td>Three girls in 1980s Stockholm decide to form ...</td>\n",
       "      <td>3.727996</td>\n",
       "      <td>[{'name': 'Memfis Film', 'id': 321}, {'name': ...</td>\n",
       "      <td>[{'iso_3166_1': 'DK', 'name': 'Denmark'}, {'is...</td>\n",
       "      <td>3/28/13</td>\n",
       "      <td>102.0</td>\n",
       "      <td>[{'iso_639_1': 'sv', 'name': 'svenska'}]</td>\n",
       "      <td>Released</td>\n",
       "      <td>NaN</td>\n",
       "      <td>We Are the Best!</td>\n",
       "      <td>[{'id': 1192, 'name': 'sweden'}, {'id': 4470, ...</td>\n",
       "      <td>[{'cast_id': 5, 'character': 'Bobo', 'credit_i...</td>\n",
       "      <td>[{'credit_id': '5716b72ac3a3686678012c84', 'de...</td>\n",
       "      <td>180590</td>\n",
       "    </tr>\n",
       "  </tbody>\n",
       "</table>\n",
       "<p>812 rows × 19 columns</p>\n",
       "</div>"
      ],
      "text/plain": [
       "                belongs_to_collection  budget  \\\n",
       "4                          standalone       0   \n",
       "7                          standalone       0   \n",
       "8               The Muppet Collection       0   \n",
       "11    Revenge of the Nerds Collection       0   \n",
       "17                         standalone       0   \n",
       "...                               ...     ...   \n",
       "2989                       standalone       0   \n",
       "2990                       standalone       0   \n",
       "2994                       standalone       0   \n",
       "2995                       standalone       0   \n",
       "2996                       standalone       0   \n",
       "\n",
       "                                                 genres homepage  \\\n",
       "4     [{'id': 28, 'name': 'Action'}, {'id': 53, 'nam...      NaN   \n",
       "7                   [{'id': 99, 'name': 'Documentary'}]      NaN   \n",
       "8     [{'id': 28, 'name': 'Action'}, {'id': 35, 'nam...      NaN   \n",
       "11                       [{'id': 35, 'name': 'Comedy'}]      NaN   \n",
       "17    [{'id': 18, 'name': 'Drama'}, {'id': 10749, 'n...      NaN   \n",
       "...                                                 ...      ...   \n",
       "2989  [{'id': 16, 'name': 'Animation'}, {'id': 10751...      NaN   \n",
       "2990  [{'id': 28, 'name': 'Action'}, {'id': 35, 'nam...      NaN   \n",
       "2994                      [{'id': 18, 'name': 'Drama'}]      NaN   \n",
       "2995  [{'id': 35, 'name': 'Comedy'}, {'id': 10749, '...      NaN   \n",
       "2996  [{'id': 18, 'name': 'Drama'}, {'id': 10402, 'n...      NaN   \n",
       "\n",
       "     original_language                                           overview  \\\n",
       "4                   ko  Marine Boy is the story of a former national s...   \n",
       "7                   en  A chronicle which provides a rare window into ...   \n",
       "8                   en  After telling the story of Flint's last journe...   \n",
       "11                  en  The members of the Lambda Lambda Lambda frater...   \n",
       "17                  en  In 1857, at the height of his fame and fortune...   \n",
       "...                ...                                                ...   \n",
       "2989                en  The adventures of a young Trumpeter swan who c...   \n",
       "2990                en  Can two clueless Georgia homegirls with big he...   \n",
       "2994                en  When David Greene receives a football scholars...   \n",
       "2995                en  Military men Rock Reilly and Eddie Devane are ...   \n",
       "2996                sv  Three girls in 1980s Stockholm decide to form ...   \n",
       "\n",
       "      popularity                               production_companies  \\\n",
       "4       1.148070                                                NaN   \n",
       "7       1.949044                                                NaN   \n",
       "8       6.902423  [{'name': 'Walt Disney Pictures', 'id': 2}, {'...   \n",
       "11     10.543750  [{'name': 'Twentieth Century Fox Film Corporat...   \n",
       "17      4.183558  [{'name': 'BBC Films', 'id': 288}, {'name': 'H...   \n",
       "...          ...                                                ...   \n",
       "2989    0.851599  [{'name': 'TriStar Pictures', 'id': 559}, {'na...   \n",
       "2990    1.560980  [{'name': 'New Line Cinema', 'id': 12}, {'name...   \n",
       "2994    7.438381          [{'name': 'Paramount Pictures', 'id': 4}]   \n",
       "2995    9.853270  [{'name': 'Warner Bros.', 'id': 6194}, {'name'...   \n",
       "2996    3.727996  [{'name': 'Memfis Film', 'id': 321}, {'name': ...   \n",
       "\n",
       "                                   production_countries release_date  runtime  \\\n",
       "4         [{'iso_3166_1': 'KR', 'name': 'South Korea'}]       2/5/09    118.0   \n",
       "7                                                   NaN      1/15/04     84.0   \n",
       "8     [{'iso_3166_1': 'US', 'name': 'United States o...      2/16/96    100.0   \n",
       "11    [{'iso_3166_1': 'US', 'name': 'United States o...      7/10/87     98.0   \n",
       "17     [{'iso_3166_1': 'GB', 'name': 'United Kingdom'}]     12/25/13    111.0   \n",
       "...                                                 ...          ...      ...   \n",
       "2989  [{'iso_3166_1': 'US', 'name': 'United States o...      5/11/01     75.0   \n",
       "2990                                                NaN      3/28/97     90.0   \n",
       "2994  [{'iso_3166_1': 'US', 'name': 'United States o...      9/18/92    106.0   \n",
       "2995  [{'iso_3166_1': 'US', 'name': 'United States o...      4/22/94    102.0   \n",
       "2996  [{'iso_3166_1': 'DK', 'name': 'Denmark'}, {'is...      3/28/13    102.0   \n",
       "\n",
       "                                       spoken_languages    status  \\\n",
       "4              [{'iso_639_1': 'ko', 'name': '한국어/조선말'}]  Released   \n",
       "7     [{'iso_639_1': 'ar', 'name': 'العربية'}, {'iso...  Released   \n",
       "8              [{'iso_639_1': 'en', 'name': 'English'}]  Released   \n",
       "11             [{'iso_639_1': 'en', 'name': 'English'}]  Released   \n",
       "17             [{'iso_639_1': 'en', 'name': 'English'}]  Released   \n",
       "...                                                 ...       ...   \n",
       "2989  [{'iso_639_1': 'en', 'name': 'English'}, {'iso...  Released   \n",
       "2990           [{'iso_639_1': 'en', 'name': 'English'}]  Released   \n",
       "2994           [{'iso_639_1': 'en', 'name': 'English'}]  Released   \n",
       "2995           [{'iso_639_1': 'en', 'name': 'English'}]  Released   \n",
       "2996           [{'iso_639_1': 'sv', 'name': 'svenska'}]  Released   \n",
       "\n",
       "                                                tagline  \\\n",
       "4                                                   NaN   \n",
       "7                 Different channels. Different truths.   \n",
       "8                           Set sail for Muppet mayhem!   \n",
       "11                                        They're Back!   \n",
       "17    His greatest story was the one he could never ...   \n",
       "...                                                 ...   \n",
       "2989  Sometimes being different helps you to find yo...   \n",
       "2990                These Pretty Women... Are Clueless!   \n",
       "2994  Just because you’re accepted doesn’t mean you ...   \n",
       "2995  It was supposed to be a routine prisoner trans...   \n",
       "2996                                                NaN   \n",
       "\n",
       "                                           title  \\\n",
       "4                                     Marine Boy   \n",
       "7                                   Control Room   \n",
       "8                         Muppet Treasure Island   \n",
       "11    Revenge of the Nerds II: Nerds in Paradise   \n",
       "17                           The Invisible Woman   \n",
       "...                                          ...   \n",
       "2989                     The Trumpet Of The Swan   \n",
       "2990                                    B.A.P.S.   \n",
       "2994                                 School Ties   \n",
       "2995                                     Chasers   \n",
       "2996                            We Are the Best!   \n",
       "\n",
       "                                               Keywords  \\\n",
       "4                                                   NaN   \n",
       "7     [{'id': 917, 'name': 'journalism'}, {'id': 163...   \n",
       "8     [{'id': 2041, 'name': 'island'}, {'id': 4418, ...   \n",
       "11    [{'id': 5801, 'name': 'nerd'}, {'id': 6876, 'n...   \n",
       "17    [{'id': 5565, 'name': 'biography'}, {'id': 180...   \n",
       "...                                                 ...   \n",
       "2989  [{'id': 6653, 'name': 'trumpet'}, {'id': 10407...   \n",
       "2990  [{'id': 1437, 'name': 'burglar'}, {'id': 1946,...   \n",
       "2994  [{'id': 6075, 'name': 'sport'}, {'id': 10144, ...   \n",
       "2995  [{'id': 378, 'name': 'prison'}, {'id': 572, 'n...   \n",
       "2996  [{'id': 1192, 'name': 'sweden'}, {'id': 4470, ...   \n",
       "\n",
       "                                                   cast  \\\n",
       "4     [{'cast_id': 3, 'character': 'Chun-soo', 'cred...   \n",
       "7     [{'cast_id': 2, 'character': 'Himself', 'credi...   \n",
       "8     [{'cast_id': 1, 'character': 'Long John Silver...   \n",
       "11    [{'cast_id': 2, 'character': 'Lewis Skolnick',...   \n",
       "17    [{'cast_id': 7, 'character': 'Charles Dickens'...   \n",
       "...                                                 ...   \n",
       "2989  [{'cast_id': 1, 'character': 'Father', 'credit...   \n",
       "2990  [{'cast_id': 3, 'character': 'Nisi', 'credit_i...   \n",
       "2994  [{'cast_id': 2, 'character': 'David Greene', '...   \n",
       "2995  [{'cast_id': 2, 'character': 'Rock Reilly', 'c...   \n",
       "2996  [{'cast_id': 5, 'character': 'Bobo', 'credit_i...   \n",
       "\n",
       "                                                   crew   revenue  \n",
       "4     [{'credit_id': '52fe464b9251416c75073b43', 'de...   3923970  \n",
       "7     [{'credit_id': '52fe47a69251416c750a0daf', 'de...   2586511  \n",
       "8     [{'credit_id': '52fe43c89251416c7501deb3', 'de...  34327391  \n",
       "11    [{'credit_id': '52fe46f49251416c750891e9', 'de...  22642033  \n",
       "17    [{'credit_id': '53b94a260e0a2676c7009b37', 'de...   1234254  \n",
       "...                                                 ...       ...  \n",
       "2989  [{'credit_id': '58bc9d609251416084044b0e', 'de...    100202  \n",
       "2990  [{'credit_id': '52fe477b9251416c7509af57', 'de...   7240837  \n",
       "2994  [{'credit_id': '5637777ac3a3681b4d01f9f5', 'de...  14715067  \n",
       "2995  [{'credit_id': '52fe4494c3a368484e02ac7d', 'de...   1596687  \n",
       "2996  [{'credit_id': '5716b72ac3a3686678012c84', 'de...    180590  \n",
       "\n",
       "[812 rows x 19 columns]"
      ]
     },
     "execution_count": 344,
     "metadata": {},
     "output_type": "execute_result"
    }
   ],
   "source": [
    "df.query('budget==0')"
   ]
  },
  {
   "cell_type": "code",
   "execution_count": 345,
   "metadata": {},
   "outputs": [],
   "source": [
    "# check all the movies which have budget 0\n",
    "df = df.replace(0,np.nan)"
   ]
  },
  {
   "cell_type": "code",
   "execution_count": 346,
   "metadata": {},
   "outputs": [
    {
     "data": {
      "text/plain": [
       "belongs_to_collection       0\n",
       "budget                    812\n",
       "genres                      7\n",
       "homepage                 2054\n",
       "original_language           0\n",
       "overview                    8\n",
       "popularity                  0\n",
       "production_companies      156\n",
       "production_countries       55\n",
       "release_date                0\n",
       "runtime                    14\n",
       "spoken_languages           20\n",
       "status                      0\n",
       "tagline                   597\n",
       "title                       0\n",
       "Keywords                  276\n",
       "cast                       13\n",
       "crew                       16\n",
       "revenue                     0\n",
       "dtype: int64"
      ]
     },
     "execution_count": 346,
     "metadata": {},
     "output_type": "execute_result"
    }
   ],
   "source": [
    "# check all missing values\n",
    "df.isnull().sum()"
   ]
  },
  {
   "cell_type": "code",
   "execution_count": 347,
   "metadata": {},
   "outputs": [],
   "source": [
    "# Drop home page\n",
    "df.drop(columns='homepage',inplace=True)"
   ]
  },
  {
   "cell_type": "code",
   "execution_count": 348,
   "metadata": {},
   "outputs": [],
   "source": [
    "# taking all geners in a list"
   ]
  },
  {
   "cell_type": "code",
   "execution_count": 349,
   "metadata": {},
   "outputs": [],
   "source": [
    "# remove all the space in the string to match the regex\n",
    "df['genres'] = df['genres'].str.replace(' ','')"
   ]
  },
  {
   "cell_type": "code",
   "execution_count": 350,
   "metadata": {},
   "outputs": [],
   "source": [
    "# Taking all the genre in list\n",
    "df['genres'] = df['genres'].str.findall(r\"'name':'([A-Za-z]+)\")"
   ]
  },
  {
   "cell_type": "code",
   "execution_count": 351,
   "metadata": {},
   "outputs": [
    {
     "data": {
      "text/plain": [
       "original_language\n",
       "en    2575\n",
       "fr      78\n",
       "ru      47\n",
       "es      43\n",
       "hi      42\n",
       "Name: count, dtype: int64"
      ]
     },
     "execution_count": 351,
     "metadata": {},
     "output_type": "execute_result"
    }
   ],
   "source": [
    "df['original_language'].value_counts().head(5)"
   ]
  },
  {
   "cell_type": "code",
   "execution_count": 352,
   "metadata": {},
   "outputs": [],
   "source": [
    "# dropping the overview column\n",
    "df.drop(columns='overview',inplace=True)"
   ]
  },
  {
   "cell_type": "code",
   "execution_count": 353,
   "metadata": {},
   "outputs": [
    {
     "name": "stderr",
     "output_type": "stream",
     "text": [
      "C:\\Users\\VICTUS\\AppData\\Local\\Temp\\ipykernel_12412\\352950337.py:2: UserWarning: Could not infer format, so each element will be parsed individually, falling back to `dateutil`. To ensure parsing is consistent and as-expected, please specify a format.\n",
      "  df['release_date'] = pd.to_datetime(df['release_date'])\n"
     ]
    }
   ],
   "source": [
    "# convert release data into datetime\n",
    "df['release_date'] = pd.to_datetime(df['release_date'])"
   ]
  },
  {
   "cell_type": "code",
   "execution_count": 354,
   "metadata": {},
   "outputs": [
    {
     "data": {
      "text/plain": [
       "status\n",
       "Released    2996\n",
       "Rumored        4\n",
       "Name: count, dtype: int64"
      ]
     },
     "execution_count": 354,
     "metadata": {},
     "output_type": "execute_result"
    }
   ],
   "source": [
    "df['status'].value_counts()"
   ]
  },
  {
   "cell_type": "code",
   "execution_count": 355,
   "metadata": {},
   "outputs": [],
   "source": [
    "# remove all remored movie\n",
    "df = df.query('status!=\"Rumored\"')"
   ]
  },
  {
   "cell_type": "code",
   "execution_count": 356,
   "metadata": {},
   "outputs": [],
   "source": [
    "# drop status feature\n",
    "df.drop(columns='status',inplace=True)"
   ]
  },
  {
   "cell_type": "code",
   "execution_count": 357,
   "metadata": {},
   "outputs": [],
   "source": [
    "df.drop(columns='tagline',inplace=True)"
   ]
  },
  {
   "cell_type": "code",
   "execution_count": 358,
   "metadata": {},
   "outputs": [],
   "source": [
    "df['production_companies'] = df['production_companies'].str.replace(' ','').str.findall(r\"'name':'([A-Za-z\\-\\(\\)]+)\")"
   ]
  },
  {
   "cell_type": "code",
   "execution_count": 359,
   "metadata": {},
   "outputs": [
    {
     "data": {
      "text/plain": [
       "0       [ParamountPictures, UnitedArtists, Metro-Goldw...\n",
       "1                                    [WaltDisneyPictures]\n",
       "2       [BoldFilms, BlumhouseProductions, RightofWayFi...\n",
       "3                                                     NaN\n",
       "4                                                     NaN\n",
       "                              ...                        \n",
       "2995                 [WarnerBros, MorganCreekProductions]\n",
       "2996                                 [MemfisFilm, FilmiV]\n",
       "2997         [NewLineCinema, Forge, TheSteveTischCompany]\n",
       "2998                     [JerseyFilms, LoofahProductions]\n",
       "2999    [LionsGateFilms, VertigoEntertainment, GothamG...\n",
       "Name: production_companies, Length: 2996, dtype: object"
      ]
     },
     "execution_count": 359,
     "metadata": {},
     "output_type": "execute_result"
    }
   ],
   "source": [
    "df['production_companies']"
   ]
  },
  {
   "cell_type": "code",
   "execution_count": 360,
   "metadata": {},
   "outputs": [],
   "source": [
    "# extract all the production companies in list\n",
    "df['production_countries'] = df['production_countries'].str.replace(' ','').str.findall(r\"'name':'([A-Za-z\\-\\(\\)]+)\")"
   ]
  },
  {
   "cell_type": "code",
   "execution_count": 361,
   "metadata": {},
   "outputs": [],
   "source": [
    "# extract the spoken language\n",
    "df['spoken_languages'] = df['spoken_languages'].str.replace(' ','').str.findall(r\"'iso_639_1':'([A-Za-z\\-\\(\\)]+)\")"
   ]
  },
  {
   "cell_type": "code",
   "execution_count": 362,
   "metadata": {},
   "outputs": [],
   "source": [
    "df['Keywords'] = df['Keywords'].str.findall(r\"'name': '([\\sA-Za-z\\-\\(\\)]+)'\")"
   ]
  },
  {
   "cell_type": "code",
   "execution_count": 363,
   "metadata": {},
   "outputs": [],
   "source": [
    "df['cast'] = df['cast'].str.findall(r\"'name': '([\\sA-Za-z\\-\\(\\)]+)'\")"
   ]
  },
  {
   "cell_type": "code",
   "execution_count": 364,
   "metadata": {},
   "outputs": [],
   "source": [
    "df['crew'] = df['crew'].str.findall(r\"'name': '([\\sA-Za-z\\-\\(\\)]+)'\")"
   ]
  },
  {
   "cell_type": "code",
   "execution_count": 365,
   "metadata": {},
   "outputs": [],
   "source": [
    "# standalone movie or not\n",
    "df['standalone_movie'] = (df['belongs_to_collection']=='standalone').astype(int)"
   ]
  },
  {
   "cell_type": "code",
   "execution_count": 366,
   "metadata": {},
   "outputs": [],
   "source": [
    "df.drop(columns=['belongs_to_collection','title'],inplace=True)"
   ]
  },
  {
   "cell_type": "code",
   "execution_count": 367,
   "metadata": {},
   "outputs": [
    {
     "name": "stderr",
     "output_type": "stream",
     "text": [
      "C:\\Users\\VICTUS\\AppData\\Local\\Temp\\ipykernel_12412\\131706787.py:1: FutureWarning: A value is trying to be set on a copy of a DataFrame or Series through chained assignment using an inplace method.\n",
      "The behavior will change in pandas 3.0. This inplace method will never work because the intermediate object on which we are setting values always behaves as a copy.\n",
      "\n",
      "For example, when doing 'df[col].method(value, inplace=True)', try using 'df.method({col: value}, inplace=True)' or df[col] = df[col].method(value) instead, to perform the operation inplace on the original object.\n",
      "\n",
      "\n",
      "  df['genres'].fillna('missing',inplace=True)\n"
     ]
    }
   ],
   "source": [
    "df['genres'].fillna('missing',inplace=True)"
   ]
  },
  {
   "cell_type": "code",
   "execution_count": 368,
   "metadata": {},
   "outputs": [],
   "source": [
    "df['genres'] = df['genres'].apply(lambda x:','.join(x))"
   ]
  },
  {
   "cell_type": "code",
   "execution_count": 369,
   "metadata": {},
   "outputs": [],
   "source": [
    "def remove_list_space(list1):\n",
    "    text = ','.join(list1)\n",
    "    text = text.replace(' ','')\n",
    "    return text"
   ]
  },
  {
   "cell_type": "code",
   "execution_count": 370,
   "metadata": {},
   "outputs": [
    {
     "data": {
      "text/plain": [
       "'haihai'"
      ]
     },
     "execution_count": 370,
     "metadata": {},
     "output_type": "execute_result"
    }
   ],
   "source": [
    "'hai hai'.replace(' ','')"
   ]
  },
  {
   "cell_type": "code",
   "execution_count": 371,
   "metadata": {},
   "outputs": [],
   "source": [
    "df['production_companies'] = df['production_companies'].fillna('missing').apply(remove_list_space)"
   ]
  },
  {
   "cell_type": "code",
   "execution_count": 372,
   "metadata": {},
   "outputs": [],
   "source": [
    "df['production_countries'] = df['production_countries'].fillna('missing').apply(remove_list_space)"
   ]
  },
  {
   "cell_type": "code",
   "execution_count": 373,
   "metadata": {},
   "outputs": [],
   "source": [
    "df['Keywords'] = df['Keywords'].fillna('missing').apply(remove_list_space)\n",
    "df['spoken_languages'] = df['spoken_languages'].fillna('en').apply(remove_list_space)"
   ]
  },
  {
   "cell_type": "code",
   "execution_count": 374,
   "metadata": {},
   "outputs": [],
   "source": [
    "for feature in ['cast','crew']:\n",
    "    df[feature] = df[feature].fillna('missing').apply(remove_list_space)"
   ]
  },
  {
   "cell_type": "code",
   "execution_count": 375,
   "metadata": {},
   "outputs": [],
   "source": [
    "for feature in df.select_dtypes('O').columns:\n",
    "    df[feature] = df[feature].apply(lambda x:x.lower().replace(',',' '))"
   ]
  },
  {
   "cell_type": "code",
   "execution_count": 376,
   "metadata": {},
   "outputs": [],
   "source": [
    "df.replace('m i s s i n g',np.nan,inplace=True)"
   ]
  },
  {
   "cell_type": "code",
   "execution_count": 377,
   "metadata": {},
   "outputs": [],
   "source": [
    "# filling the missing value\n",
    "df['genres'] = df.genres.fillna('comedy drama romance')"
   ]
  },
  {
   "cell_type": "code",
   "execution_count": 378,
   "metadata": {},
   "outputs": [
    {
     "name": "stderr",
     "output_type": "stream",
     "text": [
      "C:\\Users\\VICTUS\\AppData\\Local\\Temp\\ipykernel_12412\\410087012.py:1: FutureWarning: A value is trying to be set on a copy of a DataFrame or Series through chained assignment using an inplace method.\n",
      "The behavior will change in pandas 3.0. This inplace method will never work because the intermediate object on which we are setting values always behaves as a copy.\n",
      "\n",
      "For example, when doing 'df[col].method(value, inplace=True)', try using 'df.method({col: value}, inplace=True)' or df[col] = df[col].method(value) instead, to perform the operation inplace on the original object.\n",
      "\n",
      "\n",
      "  df['original_language'].fillna('en',inplace=True)\n"
     ]
    }
   ],
   "source": [
    "df['original_language'].fillna('en',inplace=True)"
   ]
  },
  {
   "cell_type": "code",
   "execution_count": 379,
   "metadata": {},
   "outputs": [
    {
     "name": "stderr",
     "output_type": "stream",
     "text": [
      "C:\\Users\\VICTUS\\AppData\\Local\\Temp\\ipykernel_12412\\742930877.py:2: FutureWarning: A value is trying to be set on a copy of a DataFrame or Series through chained assignment using an inplace method.\n",
      "The behavior will change in pandas 3.0. This inplace method will never work because the intermediate object on which we are setting values always behaves as a copy.\n",
      "\n",
      "For example, when doing 'df[col].method(value, inplace=True)', try using 'df.method({col: value}, inplace=True)' or df[col] = df[col].method(value) instead, to perform the operation inplace on the original object.\n",
      "\n",
      "\n",
      "  df['production_companies'].fillna('missing',inplace=True)\n"
     ]
    }
   ],
   "source": [
    "# dropping the columns with no production companies\n",
    "df['production_companies'].fillna('missing',inplace=True)"
   ]
  },
  {
   "cell_type": "code",
   "execution_count": 380,
   "metadata": {},
   "outputs": [
    {
     "name": "stderr",
     "output_type": "stream",
     "text": [
      "C:\\Users\\VICTUS\\AppData\\Local\\Temp\\ipykernel_12412\\83513139.py:1: FutureWarning: A value is trying to be set on a copy of a DataFrame or Series through chained assignment using an inplace method.\n",
      "The behavior will change in pandas 3.0. This inplace method will never work because the intermediate object on which we are setting values always behaves as a copy.\n",
      "\n",
      "For example, when doing 'df[col].method(value, inplace=True)', try using 'df.method({col: value}, inplace=True)' or df[col] = df[col].method(value) instead, to perform the operation inplace on the original object.\n",
      "\n",
      "\n",
      "  df['production_countries'].fillna('unitedstatesofamerica',inplace=True)\n"
     ]
    }
   ],
   "source": [
    "df['production_countries'].fillna('unitedstatesofamerica',inplace=True)"
   ]
  },
  {
   "cell_type": "code",
   "execution_count": 381,
   "metadata": {},
   "outputs": [],
   "source": [
    "df['release_year'] = df['release_date'].dt.year\n",
    "df['release_month'] = df['release_date'].dt.month"
   ]
  },
  {
   "cell_type": "code",
   "execution_count": 382,
   "metadata": {},
   "outputs": [
    {
     "name": "stderr",
     "output_type": "stream",
     "text": [
      "C:\\Users\\VICTUS\\AppData\\Local\\Temp\\ipykernel_12412\\716064705.py:1: FutureWarning: A value is trying to be set on a copy of a DataFrame or Series through chained assignment using an inplace method.\n",
      "The behavior will change in pandas 3.0. This inplace method will never work because the intermediate object on which we are setting values always behaves as a copy.\n",
      "\n",
      "For example, when doing 'df[col].method(value, inplace=True)', try using 'df.method({col: value}, inplace=True)' or df[col] = df[col].method(value) instead, to perform the operation inplace on the original object.\n",
      "\n",
      "\n",
      "  df['spoken_languages'].fillna('en',inplace=True)\n"
     ]
    }
   ],
   "source": [
    "df['spoken_languages'].fillna('en',inplace=True)"
   ]
  },
  {
   "cell_type": "code",
   "execution_count": 384,
   "metadata": {},
   "outputs": [],
   "source": [
    "df['cast'].fillna('missing',inplace=True)\n",
    "df['crew'].fillna('missing',inplace=True)\n",
    "df['Keywords'].fillna('missing',inplace=True)"
   ]
  },
  {
   "cell_type": "code",
   "execution_count": 391,
   "metadata": {},
   "outputs": [],
   "source": [
    "df['runtime'].fillna(df['runtime'].median(),inplace=True)"
   ]
  },
  {
   "cell_type": "code",
   "execution_count": 394,
   "metadata": {},
   "outputs": [
    {
     "data": {
      "text/plain": [
       "<Axes: xlabel='budget', ylabel='Count'>"
      ]
     },
     "execution_count": 394,
     "metadata": {},
     "output_type": "execute_result"
    },
    {
     "data": {
      "image/png": "[encoded data removed]",
      "text/plain": [
       "<Figure size 640x480 with 1 Axes>"
      ]
     },
     "metadata": {},
     "output_type": "display_data"
    }
   ],
   "source": [
    "sns.histplot(df['budget'].)"
   ]
  },
  {
   "cell_type": "code",
   "execution_count": 410,
   "metadata": {},
   "outputs": [
    {
     "data": {
      "text/html": [
       "<div>\n",
       "<style scoped>\n",
       "    .dataframe tbody tr th:only-of-type {\n",
       "        vertical-align: middle;\n",
       "    }\n",
       "\n",
       "    .dataframe tbody tr th {\n",
       "        vertical-align: top;\n",
       "    }\n",
       "\n",
       "    .dataframe thead th {\n",
       "        text-align: right;\n",
       "    }\n",
       "</style>\n",
       "<table border=\"1\" class=\"dataframe\">\n",
       "  <thead>\n",
       "    <tr style=\"text-align: right;\">\n",
       "      <th></th>\n",
       "      <th>genres</th>\n",
       "      <th>original_language</th>\n",
       "      <th>production_companies</th>\n",
       "      <th>production_countries</th>\n",
       "      <th>spoken_languages</th>\n",
       "      <th>Keywords</th>\n",
       "      <th>cast</th>\n",
       "      <th>crew</th>\n",
       "    </tr>\n",
       "  </thead>\n",
       "  <tbody>\n",
       "    <tr>\n",
       "      <th>635</th>\n",
       "      <td>drama family fantasy adventure</td>\n",
       "      <td>en</td>\n",
       "      <td>producerssalesorganization bavariafilm dieterg...</td>\n",
       "      <td>germany unitedstatesofamerica</td>\n",
       "      <td>en</td>\n",
       "      <td>basedonnovel fictionalplace wolf mythology mag...</td>\n",
       "      <td>barretoliver geraldmcraney noahhathaway drumga...</td>\n",
       "      <td>berndeichinger janeseitz rolfzehetbauer wolfga...</td>\n",
       "    </tr>\n",
       "  </tbody>\n",
       "</table>\n",
       "</div>"
      ],
      "text/plain": [
       "                             genres original_language  \\\n",
       "635  drama family fantasy adventure                en   \n",
       "\n",
       "                                  production_companies  \\\n",
       "635  producerssalesorganization bavariafilm dieterg...   \n",
       "\n",
       "              production_countries spoken_languages  \\\n",
       "635  germany unitedstatesofamerica               en   \n",
       "\n",
       "                                              Keywords  \\\n",
       "635  basedonnovel fictionalplace wolf mythology mag...   \n",
       "\n",
       "                                                  cast  \\\n",
       "635  barretoliver geraldmcraney noahhathaway drumga...   \n",
       "\n",
       "                                                  crew  \n",
       "635  berndeichinger janeseitz rolfzehetbauer wolfga...  "
      ]
     },
     "execution_count": 410,
     "metadata": {},
     "output_type": "execute_result"
    }
   ],
   "source": [
    "# concat all the catogories\n",
    "df.select_dtypes('O').sample(1)"
   ]
  },
  {
   "cell_type": "code",
   "execution_count": 411,
   "metadata": {},
   "outputs": [],
   "source": [
    "for feature in df.select_dtypes('O').columns:\n",
    "    df['catogeries'] = ' '+ df[feature]"
   ]
  },
  {
   "cell_type": "code",
   "execution_count": 415,
   "metadata": {},
   "outputs": [],
   "source": [
    "df['catogeries'] = df['catogeries'].str.strip()"
   ]
  },
  {
   "cell_type": "code",
   "execution_count": 421,
   "metadata": {},
   "outputs": [],
   "source": [
    "# drop other catogories column\n",
    "final_df = df.select_dtypes(include=['int',float])\n",
    "final_df['catogeries'] = df['catogeries']"
   ]
  },
  {
   "cell_type": "code",
   "execution_count": 426,
   "metadata": {},
   "outputs": [],
   "source": [
    "final_df = final_df[['budget', 'popularity', 'runtime', 'standalone_movie',\n",
    "       'release_year', 'release_month', 'catogeries', 'revenue']]"
   ]
  },
  {
   "cell_type": "code",
   "execution_count": null,
   "metadata": {},
   "outputs": [],
   "source": []
  }
 ],
 "metadata": {
  "kernelspec": {
   "display_name": "base",
   "language": "python",
   "name": "python3"
  },
  "language_info": {
   "codemirror_mode": {
    "name": "ipython",
    "version": 3
   },
   "file_extension": ".py",
   "mimetype": "text/x-python",
   "name": "python",
   "nbconvert_exporter": "python",
   "pygments_lexer": "ipython3",
   "version": "3.12.3"
  }
 },
 "nbformat": 4,
 "nbformat_minor": 2
}
